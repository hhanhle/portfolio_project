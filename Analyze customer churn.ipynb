{
 "cells": [
  {
   "cell_type": "markdown",
   "id": "24944e54",
   "metadata": {},
   "source": [
    "# Club's membership analysis \n",
    "\n",
    "#### 1/ Problem Definition\n",
    "Goal:\n",
    "\n",
    "- Define the characteristics of customers who cancel membership\n",
    "- Predict membership status for club members in test file\n",
    "- Suggest actions to improve business \n",
    "\n",
    "#### 2/ Data cleaning & processing\n",
    "- View data info\n",
    "- Fill missing value\n",
    "  + Fill mode value for members Gender, Marital status and Occupation\n",
    "  + Fill median value for imputing missing Annual income of member\n",
    "- Remove outliers (see at Modelling part)\n",
    "\n",
    "#### 3/ Detail analysis (Comments below)\n",
    "\n",
    "3.1 Categorical features\n",
    "3.2 Numerical features\n",
    "\n",
    "Ranking the drivers for membership cancellation (based on Correlation matrix)\n",
    "\n",
    "- Package B did not satisfy customers' needs \n",
    "- Age: the club's vibe may not suitable for the youth\n",
    "- Marital status & Gender: The activities of the club seemed not attractive to both Single and Marriage men\n",
    "- Payment mode: Annual payment did not have competitive promotion to keep the customers' loyalty\n",
    "\n",
    "#### 4/ Action suggest\n",
    "- Age: Implement surveys to customers below 48, especially 30-50 to check their satisfaction, reason for leaving and other feedbacks on services\n",
    "- Package: \n",
    "    + Recheck and enhance terms and conditions of Type B, especially those had Standard and Diamond to consider proper services for customers\n",
    "    + Check again the package price to offer suitable ones for different group of customers' income\n",
    "- Payment mode: Offer more benefits or discount for annual package to retain customers\n"
   ]
  },
  {
   "cell_type": "markdown",
   "id": "c908fb87",
   "metadata": {},
   "source": [
    "## 2. Data Pre-processing"
   ]
  },
  {
   "cell_type": "markdown",
   "id": "e5ee6028",
   "metadata": {},
   "source": [
    "### Step 1: Import libraries"
   ]
  },
  {
   "cell_type": "code",
   "execution_count": 2,
   "id": "3f2d1054",
   "metadata": {},
   "outputs": [],
   "source": [
    "import pandas as pd\n",
    "import numpy as np\n",
    "import matplotlib.pyplot as plt\n",
    "import seaborn as sns\n",
    "from sklearn.model_selection import train_test_split\n",
    "from sklearn.metrics import classification_report\n",
    "from sklearn.metrics import plot_confusion_matrix\n",
    "from sklearn.metrics import accuracy_score, precision_score, recall_score, f1_score\n",
    "import category_encoders as ce "
   ]
  },
  {
   "cell_type": "markdown",
   "id": "fecd93cc",
   "metadata": {},
   "source": [
    "### Step 2: Import files"
   ]
  },
  {
   "cell_type": "code",
   "execution_count": 3,
   "id": "d820aa96",
   "metadata": {},
   "outputs": [],
   "source": [
    "train_df = pd.read_excel('C:/Users/ASUS/OneDrive/Documents/Python/club_churn_train.xlsx')\n",
    "test_df = pd.read_excel('C:/Users/ASUS/OneDrive/Documents/Python/club_churn_test.xlsx')"
   ]
  },
  {
   "cell_type": "markdown",
   "id": "74e22653",
   "metadata": {},
   "source": [
    "### Step 3: Evaluate data structure"
   ]
  },
  {
   "cell_type": "code",
   "execution_count": 4,
   "id": "93ae14a5",
   "metadata": {},
   "outputs": [
    {
     "data": {
      "text/html": [
       "<div>\n",
       "<style scoped>\n",
       "    .dataframe tbody tr th:only-of-type {\n",
       "        vertical-align: middle;\n",
       "    }\n",
       "\n",
       "    .dataframe tbody tr th {\n",
       "        vertical-align: top;\n",
       "    }\n",
       "\n",
       "    .dataframe thead th {\n",
       "        text-align: right;\n",
       "    }\n",
       "</style>\n",
       "<table border=\"1\" class=\"dataframe\">\n",
       "  <thead>\n",
       "    <tr style=\"text-align: right;\">\n",
       "      <th></th>\n",
       "      <th>ID</th>\n",
       "      <th>MEMBERSHIP_NUMBER</th>\n",
       "      <th>MEMBERSHIP_TERM_YEARS</th>\n",
       "      <th>ANNUAL_FEES</th>\n",
       "      <th>MEMBER_MARITAL_STATUS</th>\n",
       "      <th>MEMBER_GENDER</th>\n",
       "      <th>MEMBER_ANNUAL_INCOME</th>\n",
       "      <th>MEMBER_OCCUPATION_CD</th>\n",
       "      <th>MEMBERSHIP_PACKAGE</th>\n",
       "      <th>MEMBER_AGE_AT_ISSUE</th>\n",
       "      <th>ADDITIONAL_MEMBERS</th>\n",
       "      <th>PAYMENT_MODE</th>\n",
       "      <th>AGENT_CODE</th>\n",
       "      <th>START_DATE</th>\n",
       "      <th>END_DATE</th>\n",
       "      <th>MEMBERSHIP_STATUS</th>\n",
       "    </tr>\n",
       "  </thead>\n",
       "  <tbody>\n",
       "    <tr>\n",
       "      <th>0</th>\n",
       "      <td>5944</td>\n",
       "      <td>A05948</td>\n",
       "      <td>12</td>\n",
       "      <td>100000.00</td>\n",
       "      <td>NaN</td>\n",
       "      <td>M</td>\n",
       "      <td>399996.0</td>\n",
       "      <td>1.0</td>\n",
       "      <td>TYPE-B</td>\n",
       "      <td>43</td>\n",
       "      <td>2</td>\n",
       "      <td>ANNUAL</td>\n",
       "      <td>1194400</td>\n",
       "      <td>20110929</td>\n",
       "      <td>20121119.0</td>\n",
       "      <td>CANCELLED</td>\n",
       "    </tr>\n",
       "    <tr>\n",
       "      <th>1</th>\n",
       "      <td>5487</td>\n",
       "      <td>A05490</td>\n",
       "      <td>17</td>\n",
       "      <td>100514.23</td>\n",
       "      <td>M</td>\n",
       "      <td>F</td>\n",
       "      <td>549996.0</td>\n",
       "      <td>1.0</td>\n",
       "      <td>TYPE-A</td>\n",
       "      <td>40</td>\n",
       "      <td>2</td>\n",
       "      <td>ANNUAL</td>\n",
       "      <td>739244</td>\n",
       "      <td>20110311</td>\n",
       "      <td>20120410.0</td>\n",
       "      <td>CANCELLED</td>\n",
       "    </tr>\n",
       "    <tr>\n",
       "      <th>2</th>\n",
       "      <td>9089</td>\n",
       "      <td>A09094</td>\n",
       "      <td>12</td>\n",
       "      <td>100000.80</td>\n",
       "      <td>M</td>\n",
       "      <td>M</td>\n",
       "      <td>1299996.0</td>\n",
       "      <td>1.0</td>\n",
       "      <td>TYPE-B</td>\n",
       "      <td>40</td>\n",
       "      <td>2</td>\n",
       "      <td>MONTHLY</td>\n",
       "      <td>1341388</td>\n",
       "      <td>20130625</td>\n",
       "      <td>NaN</td>\n",
       "      <td>INFORCE</td>\n",
       "    </tr>\n",
       "    <tr>\n",
       "      <th>3</th>\n",
       "      <td>5338</td>\n",
       "      <td>A05341</td>\n",
       "      <td>12</td>\n",
       "      <td>100000.99</td>\n",
       "      <td>M</td>\n",
       "      <td>M</td>\n",
       "      <td>500004.0</td>\n",
       "      <td>1.0</td>\n",
       "      <td>TYPE-B</td>\n",
       "      <td>50</td>\n",
       "      <td>3</td>\n",
       "      <td>ANNUAL</td>\n",
       "      <td>261533</td>\n",
       "      <td>20110203</td>\n",
       "      <td>20120328.0</td>\n",
       "      <td>CANCELLED</td>\n",
       "    </tr>\n",
       "    <tr>\n",
       "      <th>4</th>\n",
       "      <td>8163</td>\n",
       "      <td>A08168</td>\n",
       "      <td>12</td>\n",
       "      <td>200001.60</td>\n",
       "      <td>NaN</td>\n",
       "      <td>M</td>\n",
       "      <td>499992.0</td>\n",
       "      <td>2.0</td>\n",
       "      <td>TYPE-B</td>\n",
       "      <td>45</td>\n",
       "      <td>2</td>\n",
       "      <td>MONTHLY</td>\n",
       "      <td>1355055</td>\n",
       "      <td>20130228</td>\n",
       "      <td>20130727.0</td>\n",
       "      <td>CANCELLED</td>\n",
       "    </tr>\n",
       "  </tbody>\n",
       "</table>\n",
       "</div>"
      ],
      "text/plain": [
       "     ID MEMBERSHIP_NUMBER  MEMBERSHIP_TERM_YEARS  ANNUAL_FEES  \\\n",
       "0  5944            A05948                     12    100000.00   \n",
       "1  5487            A05490                     17    100514.23   \n",
       "2  9089            A09094                     12    100000.80   \n",
       "3  5338            A05341                     12    100000.99   \n",
       "4  8163            A08168                     12    200001.60   \n",
       "\n",
       "  MEMBER_MARITAL_STATUS MEMBER_GENDER  MEMBER_ANNUAL_INCOME  \\\n",
       "0                   NaN             M              399996.0   \n",
       "1                     M             F              549996.0   \n",
       "2                     M             M             1299996.0   \n",
       "3                     M             M              500004.0   \n",
       "4                   NaN             M              499992.0   \n",
       "\n",
       "   MEMBER_OCCUPATION_CD MEMBERSHIP_PACKAGE  MEMBER_AGE_AT_ISSUE  \\\n",
       "0                   1.0             TYPE-B                   43   \n",
       "1                   1.0             TYPE-A                   40   \n",
       "2                   1.0             TYPE-B                   40   \n",
       "3                   1.0             TYPE-B                   50   \n",
       "4                   2.0             TYPE-B                   45   \n",
       "\n",
       "   ADDITIONAL_MEMBERS PAYMENT_MODE AGENT_CODE  START_DATE    END_DATE  \\\n",
       "0                   2       ANNUAL    1194400    20110929  20121119.0   \n",
       "1                   2       ANNUAL     739244    20110311  20120410.0   \n",
       "2                   2      MONTHLY    1341388    20130625         NaN   \n",
       "3                   3       ANNUAL     261533    20110203  20120328.0   \n",
       "4                   2      MONTHLY    1355055    20130228  20130727.0   \n",
       "\n",
       "  MEMBERSHIP_STATUS  \n",
       "0         CANCELLED  \n",
       "1         CANCELLED  \n",
       "2           INFORCE  \n",
       "3         CANCELLED  \n",
       "4         CANCELLED  "
      ]
     },
     "execution_count": 4,
     "metadata": {},
     "output_type": "execute_result"
    }
   ],
   "source": [
    "train_df.head(5)"
   ]
  },
  {
   "cell_type": "code",
   "execution_count": 5,
   "id": "3cbf7977",
   "metadata": {},
   "outputs": [
    {
     "name": "stdout",
     "output_type": "stream",
     "text": [
      "<class 'pandas.core.frame.DataFrame'>\n",
      "RangeIndex: 9325 entries, 0 to 9324\n",
      "Data columns (total 16 columns):\n",
      " #   Column                 Non-Null Count  Dtype  \n",
      "---  ------                 --------------  -----  \n",
      " 0   ID                     9325 non-null   int64  \n",
      " 1   MEMBERSHIP_NUMBER      9325 non-null   object \n",
      " 2   MEMBERSHIP_TERM_YEARS  9325 non-null   int64  \n",
      " 3   ANNUAL_FEES            9325 non-null   float64\n",
      " 4   MEMBER_MARITAL_STATUS  6942 non-null   object \n",
      " 5   MEMBER_GENDER          8763 non-null   object \n",
      " 6   MEMBER_ANNUAL_INCOME   7716 non-null   float64\n",
      " 7   MEMBER_OCCUPATION_CD   9284 non-null   float64\n",
      " 8   MEMBERSHIP_PACKAGE     9325 non-null   object \n",
      " 9   MEMBER_AGE_AT_ISSUE    9325 non-null   int64  \n",
      " 10  ADDITIONAL_MEMBERS     9325 non-null   int64  \n",
      " 11  PAYMENT_MODE           9325 non-null   object \n",
      " 12  AGENT_CODE             9325 non-null   object \n",
      " 13  START_DATE             9325 non-null   int64  \n",
      " 14  END_DATE               2830 non-null   float64\n",
      " 15  MEMBERSHIP_STATUS      9325 non-null   object \n",
      "dtypes: float64(4), int64(5), object(7)\n",
      "memory usage: 1.1+ MB\n"
     ]
    }
   ],
   "source": [
    "# Show train's information\n",
    "train_df.info()"
   ]
  },
  {
   "cell_type": "code",
   "execution_count": 6,
   "id": "8f63a638",
   "metadata": {},
   "outputs": [
    {
     "name": "stdout",
     "output_type": "stream",
     "text": [
      "<class 'pandas.core.frame.DataFrame'>\n",
      "RangeIndex: 1037 entries, 0 to 1036\n",
      "Data columns (total 15 columns):\n",
      " #   Column                 Non-Null Count  Dtype  \n",
      "---  ------                 --------------  -----  \n",
      " 0   ID                     1037 non-null   int64  \n",
      " 1   MEMBERSHIP_NUMBER      1037 non-null   object \n",
      " 2   MEMBERSHIP_TERM_YEARS  1037 non-null   int64  \n",
      " 3   ANNUAL_FEES            1037 non-null   float64\n",
      " 4   MEMBER_MARITAL_STATUS  823 non-null    object \n",
      " 5   MEMBER_GENDER          988 non-null    object \n",
      " 6   MEMBER_ANNUAL_INCOME   892 non-null    float64\n",
      " 7   MEMBER_OCCUPATION_CD   1035 non-null   float64\n",
      " 8   MEMBERSHIP_PACKAGE     1037 non-null   object \n",
      " 9   MEMBER_AGE_AT_ISSUE    1037 non-null   int64  \n",
      " 10  ADDITIONAL_MEMBERS     1037 non-null   int64  \n",
      " 11  PAYMENT_MODE           1037 non-null   object \n",
      " 12  AGENT_CODE             1037 non-null   int64  \n",
      " 13  START_DATE             1037 non-null   int64  \n",
      " 14  MEMBERSHIP_STATUS      0 non-null      float64\n",
      "dtypes: float64(4), int64(6), object(5)\n",
      "memory usage: 121.6+ KB\n"
     ]
    }
   ],
   "source": [
    "# Show test's information\n",
    "test_df.info()"
   ]
  },
  {
   "cell_type": "code",
   "execution_count": 7,
   "id": "f177e8f4",
   "metadata": {},
   "outputs": [
    {
     "data": {
      "text/html": [
       "<div>\n",
       "<style scoped>\n",
       "    .dataframe tbody tr th:only-of-type {\n",
       "        vertical-align: middle;\n",
       "    }\n",
       "\n",
       "    .dataframe tbody tr th {\n",
       "        vertical-align: top;\n",
       "    }\n",
       "\n",
       "    .dataframe thead th {\n",
       "        text-align: right;\n",
       "    }\n",
       "</style>\n",
       "<table border=\"1\" class=\"dataframe\">\n",
       "  <thead>\n",
       "    <tr style=\"text-align: right;\">\n",
       "      <th></th>\n",
       "      <th>ID</th>\n",
       "      <th>MEMBERSHIP_TERM_YEARS</th>\n",
       "      <th>ANNUAL_FEES</th>\n",
       "      <th>MEMBER_ANNUAL_INCOME</th>\n",
       "      <th>MEMBER_OCCUPATION_CD</th>\n",
       "      <th>MEMBER_AGE_AT_ISSUE</th>\n",
       "      <th>ADDITIONAL_MEMBERS</th>\n",
       "      <th>START_DATE</th>\n",
       "      <th>END_DATE</th>\n",
       "    </tr>\n",
       "  </thead>\n",
       "  <tbody>\n",
       "    <tr>\n",
       "      <th>count</th>\n",
       "      <td>9325.000000</td>\n",
       "      <td>9325.000000</td>\n",
       "      <td>9.325000e+03</td>\n",
       "      <td>7.716000e+03</td>\n",
       "      <td>9284.000000</td>\n",
       "      <td>9325.000000</td>\n",
       "      <td>9325.000000</td>\n",
       "      <td>9.325000e+03</td>\n",
       "      <td>2.830000e+03</td>\n",
       "    </tr>\n",
       "    <tr>\n",
       "      <th>mean</th>\n",
       "      <td>5197.269812</td>\n",
       "      <td>29.564611</td>\n",
       "      <td>1.787982e+05</td>\n",
       "      <td>1.491272e+06</td>\n",
       "      <td>1.718871</td>\n",
       "      <td>46.856836</td>\n",
       "      <td>1.409866</td>\n",
       "      <td>2.010839e+07</td>\n",
       "      <td>2.011403e+07</td>\n",
       "    </tr>\n",
       "    <tr>\n",
       "      <th>std</th>\n",
       "      <td>2986.617719</td>\n",
       "      <td>22.554682</td>\n",
       "      <td>2.688161e+05</td>\n",
       "      <td>1.852630e+07</td>\n",
       "      <td>1.463633</td>\n",
       "      <td>13.960745</td>\n",
       "      <td>1.146661</td>\n",
       "      <td>1.716381e+04</td>\n",
       "      <td>1.375779e+04</td>\n",
       "    </tr>\n",
       "    <tr>\n",
       "      <th>min</th>\n",
       "      <td>0.000000</td>\n",
       "      <td>9.000000</td>\n",
       "      <td>9.999999e+04</td>\n",
       "      <td>9.996000e+03</td>\n",
       "      <td>1.000000</td>\n",
       "      <td>0.000000</td>\n",
       "      <td>0.000000</td>\n",
       "      <td>2.006091e+07</td>\n",
       "      <td>2.007083e+07</td>\n",
       "    </tr>\n",
       "    <tr>\n",
       "      <th>25%</th>\n",
       "      <td>2612.000000</td>\n",
       "      <td>12.000000</td>\n",
       "      <td>1.000000e+05</td>\n",
       "      <td>3.999960e+05</td>\n",
       "      <td>1.000000</td>\n",
       "      <td>37.000000</td>\n",
       "      <td>0.000000</td>\n",
       "      <td>2.010011e+07</td>\n",
       "      <td>2.010123e+07</td>\n",
       "    </tr>\n",
       "    <tr>\n",
       "      <th>50%</th>\n",
       "      <td>5209.000000</td>\n",
       "      <td>19.000000</td>\n",
       "      <td>1.184782e+05</td>\n",
       "      <td>5.499960e+05</td>\n",
       "      <td>1.000000</td>\n",
       "      <td>46.000000</td>\n",
       "      <td>1.000000</td>\n",
       "      <td>2.011011e+07</td>\n",
       "      <td>2.011113e+07</td>\n",
       "    </tr>\n",
       "    <tr>\n",
       "      <th>75%</th>\n",
       "      <td>7790.000000</td>\n",
       "      <td>37.000000</td>\n",
       "      <td>1.950001e+05</td>\n",
       "      <td>9.999960e+05</td>\n",
       "      <td>2.000000</td>\n",
       "      <td>57.000000</td>\n",
       "      <td>2.000000</td>\n",
       "      <td>2.012123e+07</td>\n",
       "      <td>2.013013e+07</td>\n",
       "    </tr>\n",
       "    <tr>\n",
       "      <th>max</th>\n",
       "      <td>10361.000000</td>\n",
       "      <td>102.000000</td>\n",
       "      <td>1.010000e+07</td>\n",
       "      <td>1.000000e+09</td>\n",
       "      <td>6.000000</td>\n",
       "      <td>92.000000</td>\n",
       "      <td>3.000000</td>\n",
       "      <td>2.013113e+07</td>\n",
       "      <td>2.013112e+07</td>\n",
       "    </tr>\n",
       "  </tbody>\n",
       "</table>\n",
       "</div>"
      ],
      "text/plain": [
       "                 ID  MEMBERSHIP_TERM_YEARS   ANNUAL_FEES  \\\n",
       "count   9325.000000            9325.000000  9.325000e+03   \n",
       "mean    5197.269812              29.564611  1.787982e+05   \n",
       "std     2986.617719              22.554682  2.688161e+05   \n",
       "min        0.000000               9.000000  9.999999e+04   \n",
       "25%     2612.000000              12.000000  1.000000e+05   \n",
       "50%     5209.000000              19.000000  1.184782e+05   \n",
       "75%     7790.000000              37.000000  1.950001e+05   \n",
       "max    10361.000000             102.000000  1.010000e+07   \n",
       "\n",
       "       MEMBER_ANNUAL_INCOME  MEMBER_OCCUPATION_CD  MEMBER_AGE_AT_ISSUE  \\\n",
       "count          7.716000e+03           9284.000000          9325.000000   \n",
       "mean           1.491272e+06              1.718871            46.856836   \n",
       "std            1.852630e+07              1.463633            13.960745   \n",
       "min            9.996000e+03              1.000000             0.000000   \n",
       "25%            3.999960e+05              1.000000            37.000000   \n",
       "50%            5.499960e+05              1.000000            46.000000   \n",
       "75%            9.999960e+05              2.000000            57.000000   \n",
       "max            1.000000e+09              6.000000            92.000000   \n",
       "\n",
       "       ADDITIONAL_MEMBERS    START_DATE      END_DATE  \n",
       "count         9325.000000  9.325000e+03  2.830000e+03  \n",
       "mean             1.409866  2.010839e+07  2.011403e+07  \n",
       "std              1.146661  1.716381e+04  1.375779e+04  \n",
       "min              0.000000  2.006091e+07  2.007083e+07  \n",
       "25%              0.000000  2.010011e+07  2.010123e+07  \n",
       "50%              1.000000  2.011011e+07  2.011113e+07  \n",
       "75%              2.000000  2.012123e+07  2.013013e+07  \n",
       "max              3.000000  2.013113e+07  2.013112e+07  "
      ]
     },
     "execution_count": 7,
     "metadata": {},
     "output_type": "execute_result"
    }
   ],
   "source": [
    "train_df.describe()"
   ]
  },
  {
   "cell_type": "code",
   "execution_count": 8,
   "id": "f75270e0",
   "metadata": {},
   "outputs": [
    {
     "data": {
      "text/plain": [
       "ID                          0\n",
       "MEMBERSHIP_NUMBER           0\n",
       "MEMBERSHIP_TERM_YEARS       0\n",
       "ANNUAL_FEES                 0\n",
       "MEMBER_MARITAL_STATUS    2383\n",
       "MEMBER_GENDER             562\n",
       "MEMBER_ANNUAL_INCOME     1609\n",
       "MEMBER_OCCUPATION_CD       41\n",
       "MEMBERSHIP_PACKAGE          0\n",
       "MEMBER_AGE_AT_ISSUE         0\n",
       "ADDITIONAL_MEMBERS          0\n",
       "PAYMENT_MODE                0\n",
       "AGENT_CODE                  0\n",
       "START_DATE                  0\n",
       "END_DATE                 6495\n",
       "MEMBERSHIP_STATUS           0\n",
       "dtype: int64"
      ]
     },
     "execution_count": 8,
     "metadata": {},
     "output_type": "execute_result"
    }
   ],
   "source": [
    "# Count null rows train\n",
    "train_df.isnull().sum()"
   ]
  },
  {
   "cell_type": "code",
   "execution_count": 9,
   "id": "2bc6f6fd",
   "metadata": {},
   "outputs": [
    {
     "data": {
      "text/plain": [
       "ID                          0\n",
       "MEMBERSHIP_NUMBER           0\n",
       "MEMBERSHIP_TERM_YEARS       0\n",
       "ANNUAL_FEES                 0\n",
       "MEMBER_MARITAL_STATUS     214\n",
       "MEMBER_GENDER              49\n",
       "MEMBER_ANNUAL_INCOME      145\n",
       "MEMBER_OCCUPATION_CD        2\n",
       "MEMBERSHIP_PACKAGE          0\n",
       "MEMBER_AGE_AT_ISSUE         0\n",
       "ADDITIONAL_MEMBERS          0\n",
       "PAYMENT_MODE                0\n",
       "AGENT_CODE                  0\n",
       "START_DATE                  0\n",
       "MEMBERSHIP_STATUS        1037\n",
       "dtype: int64"
      ]
     },
     "execution_count": 9,
     "metadata": {},
     "output_type": "execute_result"
    }
   ],
   "source": [
    "# Count null row test\n",
    "test_df.isnull().sum()"
   ]
  },
  {
   "cell_type": "code",
   "execution_count": 10,
   "id": "43ae9ceb",
   "metadata": {},
   "outputs": [
    {
     "data": {
      "text/plain": [
       "ID                       9325\n",
       "MEMBERSHIP_NUMBER        9325\n",
       "MEMBERSHIP_TERM_YEARS      92\n",
       "ANNUAL_FEES              2904\n",
       "MEMBER_MARITAL_STATUS       4\n",
       "MEMBER_GENDER               2\n",
       "MEMBER_ANNUAL_INCOME      741\n",
       "MEMBER_OCCUPATION_CD        6\n",
       "MEMBERSHIP_PACKAGE          2\n",
       "MEMBER_AGE_AT_ISSUE        89\n",
       "ADDITIONAL_MEMBERS          4\n",
       "PAYMENT_MODE                5\n",
       "AGENT_CODE               4025\n",
       "START_DATE               1276\n",
       "END_DATE                 1008\n",
       "MEMBERSHIP_STATUS           2\n",
       "dtype: int64"
      ]
     },
     "execution_count": 10,
     "metadata": {},
     "output_type": "execute_result"
    }
   ],
   "source": [
    "# Unique values in each categorical variable\n",
    "train_df.nunique()"
   ]
  },
  {
   "cell_type": "code",
   "execution_count": 11,
   "id": "b34e62ec",
   "metadata": {},
   "outputs": [
    {
     "data": {
      "text/plain": [
       "array(['ANNUAL', 'MONTHLY', 'SEMI-ANNUAL', 'QUARTERLY', 'SINGLE-PREMIUM'],\n",
       "      dtype=object)"
      ]
     },
     "execution_count": 11,
     "metadata": {},
     "output_type": "execute_result"
    }
   ],
   "source": [
    "train_df['PAYMENT_MODE'].unique()"
   ]
  },
  {
   "cell_type": "markdown",
   "id": "8121f9c7",
   "metadata": {},
   "source": [
    "### Step 4: Check variable distribution"
   ]
  },
  {
   "cell_type": "code",
   "execution_count": 12,
   "id": "abc7471b",
   "metadata": {},
   "outputs": [
    {
     "data": {
      "text/html": [
       "<div>\n",
       "<style scoped>\n",
       "    .dataframe tbody tr th:only-of-type {\n",
       "        vertical-align: middle;\n",
       "    }\n",
       "\n",
       "    .dataframe tbody tr th {\n",
       "        vertical-align: top;\n",
       "    }\n",
       "\n",
       "    .dataframe thead th {\n",
       "        text-align: right;\n",
       "    }\n",
       "</style>\n",
       "<table border=\"1\" class=\"dataframe\">\n",
       "  <thead>\n",
       "    <tr style=\"text-align: right;\">\n",
       "      <th></th>\n",
       "      <th>MEMBERSHIP_STATUS</th>\n",
       "    </tr>\n",
       "  </thead>\n",
       "  <tbody>\n",
       "    <tr>\n",
       "      <th>INFORCE</th>\n",
       "      <td>0.696515</td>\n",
       "    </tr>\n",
       "    <tr>\n",
       "      <th>CANCELLED</th>\n",
       "      <td>0.303485</td>\n",
       "    </tr>\n",
       "  </tbody>\n",
       "</table>\n",
       "</div>"
      ],
      "text/plain": [
       "           MEMBERSHIP_STATUS\n",
       "INFORCE             0.696515\n",
       "CANCELLED           0.303485"
      ]
     },
     "execution_count": 12,
     "metadata": {},
     "output_type": "execute_result"
    }
   ],
   "source": [
    "# To see target variable distribution\n",
    "train_df['MEMBERSHIP_STATUS'].value_counts(normalize=True).to_frame()"
   ]
  },
  {
   "cell_type": "code",
   "execution_count": 13,
   "id": "7d6f86e7",
   "metadata": {},
   "outputs": [
    {
     "data": {
      "text/html": [
       "<div>\n",
       "<style scoped>\n",
       "    .dataframe tbody tr th:only-of-type {\n",
       "        vertical-align: middle;\n",
       "    }\n",
       "\n",
       "    .dataframe tbody tr th {\n",
       "        vertical-align: top;\n",
       "    }\n",
       "\n",
       "    .dataframe thead th {\n",
       "        text-align: right;\n",
       "    }\n",
       "</style>\n",
       "<table border=\"1\" class=\"dataframe\">\n",
       "  <thead>\n",
       "    <tr style=\"text-align: right;\">\n",
       "      <th></th>\n",
       "      <th>MEMBER_MARITAL_STATUS</th>\n",
       "    </tr>\n",
       "  </thead>\n",
       "  <tbody>\n",
       "    <tr>\n",
       "      <th>M</th>\n",
       "      <td>0.827859</td>\n",
       "    </tr>\n",
       "    <tr>\n",
       "      <th>S</th>\n",
       "      <td>0.147796</td>\n",
       "    </tr>\n",
       "    <tr>\n",
       "      <th>W</th>\n",
       "      <td>0.018871</td>\n",
       "    </tr>\n",
       "    <tr>\n",
       "      <th>D</th>\n",
       "      <td>0.005474</td>\n",
       "    </tr>\n",
       "  </tbody>\n",
       "</table>\n",
       "</div>"
      ],
      "text/plain": [
       "   MEMBER_MARITAL_STATUS\n",
       "M               0.827859\n",
       "S               0.147796\n",
       "W               0.018871\n",
       "D               0.005474"
      ]
     },
     "execution_count": 13,
     "metadata": {},
     "output_type": "execute_result"
    }
   ],
   "source": [
    "# To see marital status distribution\n",
    "train_df['MEMBER_MARITAL_STATUS'].value_counts(normalize=True).to_frame()"
   ]
  },
  {
   "cell_type": "code",
   "execution_count": 14,
   "id": "02a764bd",
   "metadata": {},
   "outputs": [
    {
     "data": {
      "text/html": [
       "<div>\n",
       "<style scoped>\n",
       "    .dataframe tbody tr th:only-of-type {\n",
       "        vertical-align: middle;\n",
       "    }\n",
       "\n",
       "    .dataframe tbody tr th {\n",
       "        vertical-align: top;\n",
       "    }\n",
       "\n",
       "    .dataframe thead th {\n",
       "        text-align: right;\n",
       "    }\n",
       "</style>\n",
       "<table border=\"1\" class=\"dataframe\">\n",
       "  <thead>\n",
       "    <tr style=\"text-align: right;\">\n",
       "      <th></th>\n",
       "      <th>MEMBER_GENDER</th>\n",
       "    </tr>\n",
       "  </thead>\n",
       "  <tbody>\n",
       "    <tr>\n",
       "      <th>M</th>\n",
       "      <td>0.750884</td>\n",
       "    </tr>\n",
       "    <tr>\n",
       "      <th>F</th>\n",
       "      <td>0.249116</td>\n",
       "    </tr>\n",
       "  </tbody>\n",
       "</table>\n",
       "</div>"
      ],
      "text/plain": [
       "   MEMBER_GENDER\n",
       "M       0.750884\n",
       "F       0.249116"
      ]
     },
     "execution_count": 14,
     "metadata": {},
     "output_type": "execute_result"
    }
   ],
   "source": [
    "# To see gender distribution\n",
    "train_df['MEMBER_GENDER'].value_counts(normalize=True).to_frame()"
   ]
  },
  {
   "cell_type": "code",
   "execution_count": 15,
   "id": "18a460f7",
   "metadata": {},
   "outputs": [
    {
     "data": {
      "text/html": [
       "<div>\n",
       "<style scoped>\n",
       "    .dataframe tbody tr th:only-of-type {\n",
       "        vertical-align: middle;\n",
       "    }\n",
       "\n",
       "    .dataframe tbody tr th {\n",
       "        vertical-align: top;\n",
       "    }\n",
       "\n",
       "    .dataframe thead th {\n",
       "        text-align: right;\n",
       "    }\n",
       "</style>\n",
       "<table border=\"1\" class=\"dataframe\">\n",
       "  <thead>\n",
       "    <tr style=\"text-align: right;\">\n",
       "      <th></th>\n",
       "      <th>MEMBER_OCCUPATION_CD</th>\n",
       "    </tr>\n",
       "  </thead>\n",
       "  <tbody>\n",
       "    <tr>\n",
       "      <th>1.0</th>\n",
       "      <td>0.703899</td>\n",
       "    </tr>\n",
       "    <tr>\n",
       "      <th>2.0</th>\n",
       "      <td>0.172555</td>\n",
       "    </tr>\n",
       "    <tr>\n",
       "      <th>6.0</th>\n",
       "      <td>0.072167</td>\n",
       "    </tr>\n",
       "    <tr>\n",
       "      <th>5.0</th>\n",
       "      <td>0.031452</td>\n",
       "    </tr>\n",
       "    <tr>\n",
       "      <th>4.0</th>\n",
       "      <td>0.019819</td>\n",
       "    </tr>\n",
       "    <tr>\n",
       "      <th>3.0</th>\n",
       "      <td>0.000108</td>\n",
       "    </tr>\n",
       "  </tbody>\n",
       "</table>\n",
       "</div>"
      ],
      "text/plain": [
       "     MEMBER_OCCUPATION_CD\n",
       "1.0              0.703899\n",
       "2.0              0.172555\n",
       "6.0              0.072167\n",
       "5.0              0.031452\n",
       "4.0              0.019819\n",
       "3.0              0.000108"
      ]
     },
     "execution_count": 15,
     "metadata": {},
     "output_type": "execute_result"
    }
   ],
   "source": [
    "# To see occupation distribution\n",
    "train_df['MEMBER_OCCUPATION_CD'].value_counts(normalize=True).to_frame()"
   ]
  },
  {
   "cell_type": "markdown",
   "id": "0547246f",
   "metadata": {},
   "source": [
    "### Step 5: Clean the dataset"
   ]
  },
  {
   "cell_type": "code",
   "execution_count": 16,
   "id": "faf47bb3",
   "metadata": {},
   "outputs": [],
   "source": [
    "# Change type of Date\n",
    "\n",
    "train_df['START_DATE'] = pd.to_datetime(train_df.START_DATE) \n",
    "train_df['END_DATE'] = pd.to_datetime(train_df.END_DATE)\n",
    "\n",
    "# train_df['TotalCharges'] = train_df['TotalCharges'].astype(\"float\")"
   ]
  },
  {
   "cell_type": "markdown",
   "id": "354d2fc0",
   "metadata": {},
   "source": [
    "### Step 6: Take care of missing data"
   ]
  },
  {
   "cell_type": "code",
   "execution_count": 17,
   "id": "8596a861",
   "metadata": {},
   "outputs": [
    {
     "data": {
      "text/plain": [
       "MEMBER_ANNUAL_INCOME     1.000000\n",
       "ANNUAL_FEES              0.060379\n",
       "MEMBERSHIP_TERM_YEARS    0.031341\n",
       "ID                       0.016639\n",
       "ADDITIONAL_MEMBERS       0.003829\n",
       "MEMBER_OCCUPATION_CD    -0.005535\n",
       "MEMBER_AGE_AT_ISSUE     -0.048637\n",
       "Name: MEMBER_ANNUAL_INCOME, dtype: float64"
      ]
     },
     "execution_count": 17,
     "metadata": {},
     "output_type": "execute_result"
    }
   ],
   "source": [
    "# To see the correlation between member annual income and other element -> to consider method to fill missing value\n",
    "train_df.corr().loc['MEMBER_ANNUAL_INCOME', :].sort_values(ascending=False)"
   ]
  },
  {
   "cell_type": "code",
   "execution_count": 18,
   "id": "4c5d765a",
   "metadata": {},
   "outputs": [],
   "source": [
    "# Fill missing data\n",
    "# Consider majority class for Gender, Marital and Occupation\n",
    "train_df['MEMBER_MARITAL_STATUS']=train_df['MEMBER_MARITAL_STATUS'].fillna(train_df['MEMBER_MARITAL_STATUS'].mode()[0])"
   ]
  },
  {
   "cell_type": "code",
   "execution_count": 19,
   "id": "0041d606",
   "metadata": {},
   "outputs": [],
   "source": [
    "train_df['MEMBER_GENDER']=train_df['MEMBER_GENDER'].fillna(train_df['MEMBER_GENDER'].mode()[0])\n",
    "train_df['MEMBER_OCCUPATION_CD']=train_df['MEMBER_OCCUPATION_CD'].fillna(train_df['MEMBER_OCCUPATION_CD'].mode()[0])"
   ]
  },
  {
   "cell_type": "code",
   "execution_count": 20,
   "id": "62745054",
   "metadata": {},
   "outputs": [],
   "source": [
    "# Consider median value to input missing annual income\n",
    "train_df['MEMBER_ANNUAL_INCOME']=train_df['MEMBER_ANNUAL_INCOME'].fillna(train_df['MEMBER_ANNUAL_INCOME'].median())"
   ]
  },
  {
   "cell_type": "code",
   "execution_count": 21,
   "id": "66002f01",
   "metadata": {},
   "outputs": [
    {
     "name": "stdout",
     "output_type": "stream",
     "text": [
      "<class 'pandas.core.frame.DataFrame'>\n",
      "RangeIndex: 9325 entries, 0 to 9324\n",
      "Data columns (total 16 columns):\n",
      " #   Column                 Non-Null Count  Dtype         \n",
      "---  ------                 --------------  -----         \n",
      " 0   ID                     9325 non-null   int64         \n",
      " 1   MEMBERSHIP_NUMBER      9325 non-null   object        \n",
      " 2   MEMBERSHIP_TERM_YEARS  9325 non-null   int64         \n",
      " 3   ANNUAL_FEES            9325 non-null   float64       \n",
      " 4   MEMBER_MARITAL_STATUS  9325 non-null   object        \n",
      " 5   MEMBER_GENDER          9325 non-null   object        \n",
      " 6   MEMBER_ANNUAL_INCOME   9325 non-null   float64       \n",
      " 7   MEMBER_OCCUPATION_CD   9325 non-null   float64       \n",
      " 8   MEMBERSHIP_PACKAGE     9325 non-null   object        \n",
      " 9   MEMBER_AGE_AT_ISSUE    9325 non-null   int64         \n",
      " 10  ADDITIONAL_MEMBERS     9325 non-null   int64         \n",
      " 11  PAYMENT_MODE           9325 non-null   object        \n",
      " 12  AGENT_CODE             9325 non-null   object        \n",
      " 13  START_DATE             9325 non-null   datetime64[ns]\n",
      " 14  END_DATE               2830 non-null   datetime64[ns]\n",
      " 15  MEMBERSHIP_STATUS      9325 non-null   object        \n",
      "dtypes: datetime64[ns](2), float64(3), int64(4), object(7)\n",
      "memory usage: 1.1+ MB\n"
     ]
    }
   ],
   "source": [
    "train_df.info()"
   ]
  },
  {
   "cell_type": "code",
   "execution_count": 22,
   "id": "465741f4",
   "metadata": {},
   "outputs": [
    {
     "data": {
      "text/html": [
       "<div>\n",
       "<style scoped>\n",
       "    .dataframe tbody tr th:only-of-type {\n",
       "        vertical-align: middle;\n",
       "    }\n",
       "\n",
       "    .dataframe tbody tr th {\n",
       "        vertical-align: top;\n",
       "    }\n",
       "\n",
       "    .dataframe thead th {\n",
       "        text-align: right;\n",
       "    }\n",
       "</style>\n",
       "<table border=\"1\" class=\"dataframe\">\n",
       "  <thead>\n",
       "    <tr style=\"text-align: right;\">\n",
       "      <th></th>\n",
       "      <th>ID</th>\n",
       "      <th>MEMBERSHIP_TERM_YEARS</th>\n",
       "      <th>ANNUAL_FEES</th>\n",
       "      <th>MEMBER_ANNUAL_INCOME</th>\n",
       "      <th>MEMBER_OCCUPATION_CD</th>\n",
       "      <th>MEMBER_AGE_AT_ISSUE</th>\n",
       "      <th>ADDITIONAL_MEMBERS</th>\n",
       "    </tr>\n",
       "  </thead>\n",
       "  <tbody>\n",
       "    <tr>\n",
       "      <th>count</th>\n",
       "      <td>9325.000000</td>\n",
       "      <td>9325.000000</td>\n",
       "      <td>9.325000e+03</td>\n",
       "      <td>9.325000e+03</td>\n",
       "      <td>9325.000000</td>\n",
       "      <td>9325.000000</td>\n",
       "      <td>9325.000000</td>\n",
       "    </tr>\n",
       "    <tr>\n",
       "      <th>mean</th>\n",
       "      <td>5197.269812</td>\n",
       "      <td>29.564611</td>\n",
       "      <td>1.787982e+05</td>\n",
       "      <td>1.328858e+06</td>\n",
       "      <td>1.715710</td>\n",
       "      <td>46.856836</td>\n",
       "      <td>1.409866</td>\n",
       "    </tr>\n",
       "    <tr>\n",
       "      <th>std</th>\n",
       "      <td>2986.617719</td>\n",
       "      <td>22.554682</td>\n",
       "      <td>2.688161e+05</td>\n",
       "      <td>1.685591e+07</td>\n",
       "      <td>1.461186</td>\n",
       "      <td>13.960745</td>\n",
       "      <td>1.146661</td>\n",
       "    </tr>\n",
       "    <tr>\n",
       "      <th>min</th>\n",
       "      <td>0.000000</td>\n",
       "      <td>9.000000</td>\n",
       "      <td>9.999999e+04</td>\n",
       "      <td>9.996000e+03</td>\n",
       "      <td>1.000000</td>\n",
       "      <td>0.000000</td>\n",
       "      <td>0.000000</td>\n",
       "    </tr>\n",
       "    <tr>\n",
       "      <th>25%</th>\n",
       "      <td>2612.000000</td>\n",
       "      <td>12.000000</td>\n",
       "      <td>1.000000e+05</td>\n",
       "      <td>3.999960e+05</td>\n",
       "      <td>1.000000</td>\n",
       "      <td>37.000000</td>\n",
       "      <td>0.000000</td>\n",
       "    </tr>\n",
       "    <tr>\n",
       "      <th>50%</th>\n",
       "      <td>5209.000000</td>\n",
       "      <td>19.000000</td>\n",
       "      <td>1.184782e+05</td>\n",
       "      <td>5.499960e+05</td>\n",
       "      <td>1.000000</td>\n",
       "      <td>46.000000</td>\n",
       "      <td>1.000000</td>\n",
       "    </tr>\n",
       "    <tr>\n",
       "      <th>75%</th>\n",
       "      <td>7790.000000</td>\n",
       "      <td>37.000000</td>\n",
       "      <td>1.950001e+05</td>\n",
       "      <td>8.899800e+05</td>\n",
       "      <td>2.000000</td>\n",
       "      <td>57.000000</td>\n",
       "      <td>2.000000</td>\n",
       "    </tr>\n",
       "    <tr>\n",
       "      <th>max</th>\n",
       "      <td>10361.000000</td>\n",
       "      <td>102.000000</td>\n",
       "      <td>1.010000e+07</td>\n",
       "      <td>1.000000e+09</td>\n",
       "      <td>6.000000</td>\n",
       "      <td>92.000000</td>\n",
       "      <td>3.000000</td>\n",
       "    </tr>\n",
       "  </tbody>\n",
       "</table>\n",
       "</div>"
      ],
      "text/plain": [
       "                 ID  MEMBERSHIP_TERM_YEARS   ANNUAL_FEES  \\\n",
       "count   9325.000000            9325.000000  9.325000e+03   \n",
       "mean    5197.269812              29.564611  1.787982e+05   \n",
       "std     2986.617719              22.554682  2.688161e+05   \n",
       "min        0.000000               9.000000  9.999999e+04   \n",
       "25%     2612.000000              12.000000  1.000000e+05   \n",
       "50%     5209.000000              19.000000  1.184782e+05   \n",
       "75%     7790.000000              37.000000  1.950001e+05   \n",
       "max    10361.000000             102.000000  1.010000e+07   \n",
       "\n",
       "       MEMBER_ANNUAL_INCOME  MEMBER_OCCUPATION_CD  MEMBER_AGE_AT_ISSUE  \\\n",
       "count          9.325000e+03           9325.000000          9325.000000   \n",
       "mean           1.328858e+06              1.715710            46.856836   \n",
       "std            1.685591e+07              1.461186            13.960745   \n",
       "min            9.996000e+03              1.000000             0.000000   \n",
       "25%            3.999960e+05              1.000000            37.000000   \n",
       "50%            5.499960e+05              1.000000            46.000000   \n",
       "75%            8.899800e+05              2.000000            57.000000   \n",
       "max            1.000000e+09              6.000000            92.000000   \n",
       "\n",
       "       ADDITIONAL_MEMBERS  \n",
       "count         9325.000000  \n",
       "mean             1.409866  \n",
       "std              1.146661  \n",
       "min              0.000000  \n",
       "25%              0.000000  \n",
       "50%              1.000000  \n",
       "75%              2.000000  \n",
       "max              3.000000  "
      ]
     },
     "execution_count": 22,
     "metadata": {},
     "output_type": "execute_result"
    }
   ],
   "source": [
    "train_df.describe()"
   ]
  },
  {
   "cell_type": "markdown",
   "id": "cc37db1a",
   "metadata": {},
   "source": [
    "# 3. Exploratory Data Analysis (EDA)"
   ]
  },
  {
   "cell_type": "markdown",
   "id": "ab5887f7",
   "metadata": {},
   "source": [
    "## 3.1. Correlating categorical features "
   ]
  },
  {
   "cell_type": "markdown",
   "id": "22e85b67",
   "metadata": {},
   "source": [
    "#### Observation:\n",
    "\n",
    "The majority of customers of this club had these characteristics:\n",
    "1. Male\n",
    "2. Marriaged\n",
    "3. Occupation is 1\n",
    "\n",
    "##### Membership status: \n",
    "- Fig 1: Single cancellation rate was highest among all groups. However, Single just accounted for small amount of customers. The majority came from Marriage, which had cancellation rate was nearly one third of the total Marriage population \n",
    "- Fig 2: Most customers were male, and its cancellation rate was also higher, nearly one third of the total Male population\n",
    "- Fig 3: Most customers' occupation was 1, and its cancellation rate was also the highest, nearly one third of the total group 1 population\n",
    "- Fig 4: Most customers chose Type B, and its cancellation also rate was higher, about 40% of the total Type B population\n",
    "- Fig 5: Most customers had 0 add-in members, and its cancellation also rate was the highest, nearly one third of the total group 1 population. Other groups had pretty same cancellation rate of around 30%\n",
    "- Fig 6: Most customers chose annual payment, and its cancellation rate was the highest, nearly one third of the total group 1 population. Other groups had pretty same cancellation rate of around 30%\n",
    "- Agent code: There were 4025 codes in total, the code which has the highest amount of cancellation is 739255 (46 cancellation). We can see that this feature distribution was too broad. Hence, we can take a look at agent 739255, but no further focus needed"
   ]
  },
  {
   "cell_type": "markdown",
   "id": "b7fb9406",
   "metadata": {},
   "source": [
    "#### Target Variable: MEMBERSHIP_STATUS"
   ]
  },
  {
   "cell_type": "code",
   "execution_count": 23,
   "id": "61ce6cf6",
   "metadata": {},
   "outputs": [
    {
     "data": {
      "text/html": [
       "<div>\n",
       "<style scoped>\n",
       "    .dataframe tbody tr th:only-of-type {\n",
       "        vertical-align: middle;\n",
       "    }\n",
       "\n",
       "    .dataframe tbody tr th {\n",
       "        vertical-align: top;\n",
       "    }\n",
       "\n",
       "    .dataframe thead th {\n",
       "        text-align: right;\n",
       "    }\n",
       "</style>\n",
       "<table border=\"1\" class=\"dataframe\">\n",
       "  <thead>\n",
       "    <tr style=\"text-align: right;\">\n",
       "      <th></th>\n",
       "      <th>MEMBERSHIP_STATUS</th>\n",
       "    </tr>\n",
       "  </thead>\n",
       "  <tbody>\n",
       "    <tr>\n",
       "      <th>INFORCE</th>\n",
       "      <td>6495</td>\n",
       "    </tr>\n",
       "    <tr>\n",
       "      <th>CANCELLED</th>\n",
       "      <td>2830</td>\n",
       "    </tr>\n",
       "  </tbody>\n",
       "</table>\n",
       "</div>"
      ],
      "text/plain": [
       "           MEMBERSHIP_STATUS\n",
       "INFORCE                 6495\n",
       "CANCELLED               2830"
      ]
     },
     "execution_count": 23,
     "metadata": {},
     "output_type": "execute_result"
    }
   ],
   "source": [
    "train_df['MEMBERSHIP_STATUS'].value_counts().to_frame()"
   ]
  },
  {
   "cell_type": "code",
   "execution_count": 24,
   "id": "8a9ff953",
   "metadata": {},
   "outputs": [
    {
     "data": {
      "text/html": [
       "<div>\n",
       "<style scoped>\n",
       "    .dataframe tbody tr th:only-of-type {\n",
       "        vertical-align: middle;\n",
       "    }\n",
       "\n",
       "    .dataframe tbody tr th {\n",
       "        vertical-align: top;\n",
       "    }\n",
       "\n",
       "    .dataframe thead th {\n",
       "        text-align: right;\n",
       "    }\n",
       "</style>\n",
       "<table border=\"1\" class=\"dataframe\">\n",
       "  <thead>\n",
       "    <tr style=\"text-align: right;\">\n",
       "      <th></th>\n",
       "      <th>MEMBERSHIP_STATUS</th>\n",
       "    </tr>\n",
       "  </thead>\n",
       "  <tbody>\n",
       "    <tr>\n",
       "      <th>INFORCE</th>\n",
       "      <td>0.696515</td>\n",
       "    </tr>\n",
       "    <tr>\n",
       "      <th>CANCELLED</th>\n",
       "      <td>0.303485</td>\n",
       "    </tr>\n",
       "  </tbody>\n",
       "</table>\n",
       "</div>"
      ],
      "text/plain": [
       "           MEMBERSHIP_STATUS\n",
       "INFORCE             0.696515\n",
       "CANCELLED           0.303485"
      ]
     },
     "execution_count": 24,
     "metadata": {},
     "output_type": "execute_result"
    }
   ],
   "source": [
    "train_df['MEMBERSHIP_STATUS'].value_counts(normalize=True).to_frame()"
   ]
  },
  {
   "cell_type": "code",
   "execution_count": 25,
   "id": "0bc65ac7",
   "metadata": {},
   "outputs": [
    {
     "data": {
      "image/png": "[encoded data removed]",
      "text/plain": [
       "<Figure size 864x576 with 6 Axes>"
      ]
     },
     "metadata": {
      "needs_background": "light"
     },
     "output_type": "display_data"
    }
   ],
   "source": [
    "# Draw charts for categorical features in relation with membership status\n",
    "\n",
    "cols = [\"MEMBER_MARITAL_STATUS\", \"MEMBER_GENDER\", \"MEMBER_OCCUPATION_CD\", \"MEMBERSHIP_PACKAGE\", \"ADDITIONAL_MEMBERS\"]\n",
    "n_rows = 2\n",
    "n_cols = 3\n",
    "\n",
    "fig, ax = plt.subplots(n_rows, n_cols, figsize=(n_cols*4, n_rows*4))\n",
    "\n",
    "for r in range (0, n_rows):\n",
    "    for c in range (0,n_cols):\n",
    "        i = r*n_cols + c\n",
    "        if i < len(cols):\n",
    "            ax_i = ax[r,c]\n",
    "            sns.countplot(data=train_df, x=cols[i], hue='MEMBERSHIP_STATUS', palette='icefire', ax=ax_i)\n",
    "            ax_i.set_title(f\"Figure {i+1}\")\n",
    "            \n",
    "ax.flat[-1].set_visible(False) \n",
    "\n",
    "plt.tight_layout()\n"
   ]
  },
  {
   "cell_type": "code",
   "execution_count": 26,
   "id": "c13bfca1",
   "metadata": {},
   "outputs": [
    {
     "data": {
      "image/png": "[encoded data removed]",
      "text/plain": [
       "<Figure size 720x360 with 1 Axes>"
      ]
     },
     "metadata": {
      "needs_background": "light"
     },
     "output_type": "display_data"
    }
   ],
   "source": [
    "# Draw chart of relationship between payment mode and membership status\n",
    "plt.figure(figsize=(10,5))\n",
    "sns.countplot(data=train_df, x='PAYMENT_MODE', hue='MEMBERSHIP_STATUS', palette = 'icefire').set(title='Figure 6')\n",
    "plt.show()"
   ]
  },
  {
   "cell_type": "code",
   "execution_count": 27,
   "id": "d83c0251",
   "metadata": {},
   "outputs": [
    {
     "data": {
      "text/plain": [
       "4025"
      ]
     },
     "execution_count": 27,
     "metadata": {},
     "output_type": "execute_result"
    }
   ],
   "source": [
    "# To count number of unique values in Agent code column\n",
    "n = len(pd.unique(train_df['AGENT_CODE']))\n",
    "n"
   ]
  },
  {
   "cell_type": "code",
   "execution_count": 28,
   "id": "3ccf1ca7",
   "metadata": {},
   "outputs": [
    {
     "data": {
      "text/plain": [
       "MEMBERSHIP_STATUS\n",
       "CANCELLED    739255\n",
       "INFORCE      343344\n",
       "Name: AGENT_CODE, dtype: int64"
      ]
     },
     "execution_count": 28,
     "metadata": {},
     "output_type": "execute_result"
    }
   ],
   "source": [
    "# To find the mode value of Agent code\n",
    "agentcode_mode = train_df.groupby(['MEMBERSHIP_STATUS'])['AGENT_CODE'].agg(lambda x:x.value_counts().index[0])\n",
    "agentcode_mode"
   ]
  },
  {
   "cell_type": "code",
   "execution_count": 29,
   "id": "5882f4cd",
   "metadata": {},
   "outputs": [
    {
     "data": {
      "text/plain": [
       "ID                       46\n",
       "MEMBERSHIP_NUMBER        46\n",
       "MEMBERSHIP_TERM_YEARS    46\n",
       "ANNUAL_FEES              46\n",
       "MEMBER_MARITAL_STATUS    46\n",
       "MEMBER_GENDER            46\n",
       "MEMBER_ANNUAL_INCOME     46\n",
       "MEMBER_OCCUPATION_CD     46\n",
       "MEMBERSHIP_PACKAGE       46\n",
       "MEMBER_AGE_AT_ISSUE      46\n",
       "ADDITIONAL_MEMBERS       46\n",
       "PAYMENT_MODE             46\n",
       "AGENT_CODE               46\n",
       "START_DATE               46\n",
       "END_DATE                 30\n",
       "MEMBERSHIP_STATUS        46\n",
       "dtype: int64"
      ]
     },
     "execution_count": 29,
     "metadata": {},
     "output_type": "execute_result"
    }
   ],
   "source": [
    "# To count the number of cancellation relating to Agent code 739255\n",
    "train_df[train_df['AGENT_CODE'] == 739255].count()"
   ]
  },
  {
   "cell_type": "markdown",
   "id": "a1bd60ed",
   "metadata": {},
   "source": [
    "## 3.2. EDA for numerical features "
   ]
  },
  {
   "cell_type": "markdown",
   "id": "4ded0a7b",
   "metadata": {},
   "source": [
    "#### Comments:\n",
    "##### 1. Member age at issue\n",
    "- The majority number of cancellation came from the age 30-50\n",
    "- The younger the customers, the higher rate of cancellation\n",
    "\n",
    "##### 2. Annual fees\n",
    "- The majority number of cancellation came from Standard group \n",
    "- Both Standard and Diamond groups had cancellation rate of one third of group population\n",
    "- The 2 remaining groups had cancellation rate of one fourth of group population\n",
    "\n",
    "##### 3. Member annual income\n",
    "- The majority number of cancellation came from Poor group \n",
    "- 3 groups Poor, Medium and Rich had cancellation rate of around one third of group population\n",
    "- Wealthy group had cancellation rate of one fourth of group population\n",
    "\n",
    "##### 4. Combine package, fees & income\n",
    "- The fee of packages were not properly personalize to customers"
   ]
  },
  {
   "cell_type": "markdown",
   "id": "799bc3c9",
   "metadata": {},
   "source": [
    "### 3.2.1 MEMBER AGE AT ISSUE"
   ]
  },
  {
   "cell_type": "code",
   "execution_count": 30,
   "id": "f4e802e8",
   "metadata": {
    "scrolled": true
   },
   "outputs": [
    {
     "data": {
      "image/png": "[encoded data removed]",
      "text/plain": [
       "<Figure size 432x288 with 1 Axes>"
      ]
     },
     "metadata": {
      "needs_background": "light"
     },
     "output_type": "display_data"
    }
   ],
   "source": [
    "# Draw histogram of age in relation with membership status\n",
    "sns.histplot(data=train_df, x='MEMBER_AGE_AT_ISSUE', hue = 'MEMBERSHIP_STATUS', bins = 50, palette = 'icefire', kde=True);"
   ]
  },
  {
   "cell_type": "markdown",
   "id": "519b450f",
   "metadata": {},
   "source": [
    "### 3.2.2 ANNUAL FEES"
   ]
  },
  {
   "cell_type": "code",
   "execution_count": 31,
   "id": "c1680b4f",
   "metadata": {},
   "outputs": [
    {
     "data": {
      "text/plain": [
       "count    9.325000e+03\n",
       "mean     1.787982e+05\n",
       "std      2.688161e+05\n",
       "min      9.999999e+04\n",
       "25%      1.000000e+05\n",
       "50%      1.184782e+05\n",
       "75%      1.950001e+05\n",
       "max      1.010000e+07\n",
       "Name: ANNUAL_FEES, dtype: float64"
      ]
     },
     "execution_count": 31,
     "metadata": {},
     "output_type": "execute_result"
    }
   ],
   "source": [
    "train_df['ANNUAL_FEES'].describe()"
   ]
  },
  {
   "cell_type": "code",
   "execution_count": 32,
   "id": "cabc40b9",
   "metadata": {},
   "outputs": [
    {
     "data": {
      "text/plain": [
       "0         (99999.989, 100000.0]\n",
       "1         (100000.0, 118478.16]\n",
       "2         (100000.0, 118478.16]\n",
       "3         (100000.0, 118478.16]\n",
       "4       (195000.14, 10100000.0]\n",
       "                 ...           \n",
       "9320      (100000.0, 118478.16]\n",
       "9321      (100000.0, 118478.16]\n",
       "9322    (195000.14, 10100000.0]\n",
       "9323      (99999.989, 100000.0]\n",
       "9324      (100000.0, 118478.16]\n",
       "Name: ANNUAL_FEES, Length: 9325, dtype: category\n",
       "Categories (4, interval[float64, right]): [(99999.989, 100000.0] < (100000.0, 118478.16] < (118478.16, 195000.14] < (195000.14, 10100000.0]]"
      ]
     },
     "execution_count": 32,
     "metadata": {},
     "output_type": "execute_result"
    }
   ],
   "source": [
    "# To group Annual fees into 4 groups using quantile cut\n",
    "pd.qcut(train_df['ANNUAL_FEES'], 4)"
   ]
  },
  {
   "cell_type": "code",
   "execution_count": 33,
   "id": "344db522",
   "metadata": {},
   "outputs": [
    {
     "data": {
      "text/plain": [
       "<AxesSubplot:xlabel='ANNUAL_FEES', ylabel='count'>"
      ]
     },
     "execution_count": 33,
     "metadata": {},
     "output_type": "execute_result"
    },
    {
     "data": {
      "image/png": "[encoded data removed]",
      "text/plain": [
       "<Figure size 720x360 with 1 Axes>"
      ]
     },
     "metadata": {
      "needs_background": "light"
     },
     "output_type": "display_data"
    }
   ],
   "source": [
    "# Draw chart base on group of Annual fees\n",
    "plt.figure(figsize=(10,5))\n",
    "fare_categories = ['Standard', 'Silver', 'Gold', 'Diamond']\n",
    "grouping = pd.qcut(train_df['ANNUAL_FEES'], 4, labels=fare_categories)\n",
    "\n",
    "sns.countplot(x=grouping, hue=train_df['MEMBERSHIP_STATUS'], palette='icefire')"
   ]
  },
  {
   "cell_type": "markdown",
   "id": "d0fabd6f",
   "metadata": {},
   "source": [
    "### 3.2.3 MEMBER ANNUAL INCOME"
   ]
  },
  {
   "cell_type": "code",
   "execution_count": 34,
   "id": "aae2feb7",
   "metadata": {},
   "outputs": [
    {
     "data": {
      "text/plain": [
       "count    9.325000e+03\n",
       "mean     1.328858e+06\n",
       "std      1.685591e+07\n",
       "min      9.996000e+03\n",
       "25%      3.999960e+05\n",
       "50%      5.499960e+05\n",
       "75%      8.899800e+05\n",
       "max      1.000000e+09\n",
       "Name: MEMBER_ANNUAL_INCOME, dtype: float64"
      ]
     },
     "execution_count": 34,
     "metadata": {},
     "output_type": "execute_result"
    }
   ],
   "source": [
    "train_df['MEMBER_ANNUAL_INCOME'].describe()"
   ]
  },
  {
   "cell_type": "code",
   "execution_count": 35,
   "id": "1e05e25a",
   "metadata": {},
   "outputs": [
    {
     "data": {
      "text/plain": [
       "0          (9995.999, 399996.0]\n",
       "1          (399996.0, 549996.0]\n",
       "2       (889980.0, 999999996.0]\n",
       "3          (399996.0, 549996.0]\n",
       "4          (399996.0, 549996.0]\n",
       "                 ...           \n",
       "9320       (549996.0, 889980.0]\n",
       "9321    (889980.0, 999999996.0]\n",
       "9322       (9995.999, 399996.0]\n",
       "9323       (9995.999, 399996.0]\n",
       "9324       (549996.0, 889980.0]\n",
       "Name: MEMBER_ANNUAL_INCOME, Length: 9325, dtype: category\n",
       "Categories (4, interval[float64, right]): [(9995.999, 399996.0] < (399996.0, 549996.0] < (549996.0, 889980.0] < (889980.0, 999999996.0]]"
      ]
     },
     "execution_count": 35,
     "metadata": {},
     "output_type": "execute_result"
    }
   ],
   "source": [
    "# To group member annual income into 4 groups using quantile cut\n",
    "pd.qcut(train_df['MEMBER_ANNUAL_INCOME'], 4)"
   ]
  },
  {
   "cell_type": "code",
   "execution_count": 36,
   "id": "9b7d1438",
   "metadata": {},
   "outputs": [
    {
     "data": {
      "text/plain": [
       "<AxesSubplot:xlabel='MEMBER_ANNUAL_INCOME', ylabel='count'>"
      ]
     },
     "execution_count": 36,
     "metadata": {},
     "output_type": "execute_result"
    },
    {
     "data": {
      "image/png": "[encoded data removed]",
      "text/plain": [
       "<Figure size 720x360 with 1 Axes>"
      ]
     },
     "metadata": {
      "needs_background": "light"
     },
     "output_type": "display_data"
    }
   ],
   "source": [
    "# Draw chart base on groups\n",
    "plt.figure(figsize=(10,5))\n",
    "income_categories = ['Poor', 'Medium', 'Rich', 'Wealthy']\n",
    "grouping_income = pd.qcut(train_df['MEMBER_ANNUAL_INCOME'], 4, labels=income_categories)\n",
    "\n",
    "sns.countplot(x=grouping_income, hue=train_df['MEMBERSHIP_STATUS'], palette='icefire')"
   ]
  },
  {
   "cell_type": "code",
   "execution_count": 37,
   "id": "8cfe6c1c",
   "metadata": {},
   "outputs": [],
   "source": [
    "# Create new column Grouping member annual income\n",
    "labels = ['Poor', 'Medium', 'Rich', 'Wealthy']\n",
    "train_df['MEMBER_ANNUAL_INCOME_bin'] = pd.qcut(train_df['MEMBER_ANNUAL_INCOME'], 4, labels=labels)"
   ]
  },
  {
   "cell_type": "code",
   "execution_count": 38,
   "id": "6403a385",
   "metadata": {},
   "outputs": [],
   "source": [
    "# Create new column Grouping member annual fees\n",
    "labels = ['Standard', 'Silver', 'Gold', 'Diamond']\n",
    "train_df['ANNUAL_FEES_bin'] = pd.qcut(train_df['ANNUAL_FEES'], 4, labels=labels)"
   ]
  },
  {
   "cell_type": "code",
   "execution_count": 39,
   "id": "fc7361bc",
   "metadata": {},
   "outputs": [
    {
     "name": "stdout",
     "output_type": "stream",
     "text": [
      "MEMBERSHIP_PACKAGE  MEMBERSHIP_STATUS  ANNUAL_FEES_bin  MEMBER_ANNUAL_INCOME_bin\n",
      "TYPE-A              CANCELLED          Standard         Poor                          0\n",
      "                                                        Medium                        0\n",
      "                                                        Rich                          0\n",
      "                                                        Wealthy                       0\n",
      "                                       Silver           Poor                         62\n",
      "                                                        Medium                       83\n",
      "                                                        Rich                         47\n",
      "                                                        Wealthy                      42\n",
      "                                       Gold             Poor                         36\n",
      "                                                        Medium                       65\n",
      "                                                        Rich                         32\n",
      "                                                        Wealthy                      28\n",
      "                                       Diamond          Poor                         17\n",
      "                                                        Medium                       52\n",
      "                                                        Rich                         23\n",
      "                                                        Wealthy                      50\n",
      "                    INFORCE            Standard         Poor                          1\n",
      "                                                        Medium                        0\n",
      "                                                        Rich                          1\n",
      "                                                        Wealthy                       2\n",
      "                                       Silver           Poor                        215\n",
      "                                                        Medium                      365\n",
      "                                                        Rich                        171\n",
      "                                                        Wealthy                     216\n",
      "                                       Gold             Poor                        215\n",
      "                                                        Medium                      344\n",
      "                                                        Rich                        205\n",
      "                                                        Wealthy                     265\n",
      "                                       Diamond          Poor                         71\n",
      "                                                        Medium                      163\n",
      "                                                        Rich                        131\n",
      "                                                        Wealthy                     317\n",
      "TYPE-B              CANCELLED          Standard         Poor                        359\n",
      "                                                        Medium                      328\n",
      "                                                        Rich                        135\n",
      "                                                        Wealthy                     120\n",
      "                                       Silver           Poor                         95\n",
      "                                                        Medium                       77\n",
      "                                                        Rich                         32\n",
      "                                                        Wealthy                      30\n",
      "                                       Gold             Poor                        131\n",
      "                                                        Medium                      182\n",
      "                                                        Rich                         70\n",
      "                                                        Wealthy                      73\n",
      "                                       Diamond          Poor                        102\n",
      "                                                        Medium                      159\n",
      "                                                        Rich                        132\n",
      "                                                        Wealthy                     268\n",
      "                    INFORCE            Standard         Poor                        703\n",
      "                                                        Medium                      693\n",
      "                                                        Rich                        210\n",
      "                                                        Wealthy                     301\n",
      "                                       Silver           Poor                        115\n",
      "                                                        Medium                      129\n",
      "                                                        Rich                         56\n",
      "                                                        Wealthy                      75\n",
      "                                       Gold             Poor                        191\n",
      "                                                        Medium                      230\n",
      "                                                        Rich                        114\n",
      "                                                        Wealthy                     151\n",
      "                                       Diamond          Poor                        111\n",
      "                                                        Medium                      207\n",
      "                                                        Rich                        134\n",
      "                                                        Wealthy                     393\n",
      "Name: MEMBERSHIP_NUMBER, dtype: int64\n"
     ]
    }
   ],
   "source": [
    "# To see the distribution of membership status by package, annual fee & income\n",
    "pd.set_option('display.max_rows', None)\n",
    "countmap = train_df.groupby(['MEMBERSHIP_PACKAGE','MEMBERSHIP_STATUS', 'ANNUAL_FEES_bin', 'MEMBER_ANNUAL_INCOME_bin'])['MEMBERSHIP_NUMBER'].count()\n",
    "print(countmap)"
   ]
  },
  {
   "cell_type": "code",
   "execution_count": null,
   "id": "6bce3627",
   "metadata": {},
   "outputs": [],
   "source": []
  }
 ],
 "metadata": {
  "kernelspec": {
   "display_name": "Python 3 (ipykernel)",
   "language": "python",
   "name": "python3"
  },
  "language_info": {
   "codemirror_mode": {
    "name": "ipython",
    "version": 3
   },
   "file_extension": ".py",
   "mimetype": "text/x-python",
   "name": "python",
   "nbconvert_exporter": "python",
   "pygments_lexer": "ipython3",
   "version": "3.9.7"
  }
 },
 "nbformat": 4,
 "nbformat_minor": 5
}
